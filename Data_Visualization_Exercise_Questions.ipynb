{
 "cells": [
  {
   "cell_type": "markdown",
   "id": "5e3e524c",
   "metadata": {},
   "source": [
    "##### Titanic Dataset Features\n",
    "\n",
    "- Passenger Id: an id given to each passenger aboard\n",
    "- Survived: whether a passenger survived or not; 0 - did not survive, 1- survived\n",
    "- Pclass: the passenger class; has three possible values: 1,2,3 (first, second and third class)\n",
    "- Name: the Name of the passenger\n",
    "- Sex: gender\n",
    "- Age: age \n",
    "- SibSp: number of siblings and spouses traveling with the passenger\n",
    "- Parch: number of parents and children traveling with the passenger\n",
    "- Ticket: the ticket number\n",
    "- Fare: the ticketfFare\n",
    "- cabin: the cabin number\n",
    "- Embarked: the embarkation port; three possible ports from where the passengers embarked; S - Southampton(UK), C - Cherbourg(France), Q - Queenstown(Ireland)"
   ]
  },
  {
   "cell_type": "code",
   "execution_count": 3,
   "id": "4c258506",
   "metadata": {},
   "outputs": [],
   "source": [
    "# Questions:\n",
    "# 1. Read the Titanic dataset and explore how many passengers survived with respect to their gender profiles.\n",
    "# 2. Create a pie chart displaying the proportion of passenger class (\"Pclass\") in the Titanic dataset.\n",
    "# 3. Plot the distribution of \"Fare\" attribute present in the Titanic data and superimpose a density plot of the same.\n",
    "# 4. Analyze using appropriate visuals the relationship between \"Embarked\" and \"Age\" based on gender profile of passengers.\n",
    "# 5. Using suitable visualization methods, analyze the relationship between the numerical features present in the dataset."
   ]
  }
 ],
 "metadata": {
  "kernelspec": {
   "display_name": "Python 3 (ipykernel)",
   "language": "python",
   "name": "python3"
  },
  "language_info": {
   "codemirror_mode": {
    "name": "ipython",
    "version": 3
   },
   "file_extension": ".py",
   "mimetype": "text/x-python",
   "name": "python",
   "nbconvert_exporter": "python",
   "pygments_lexer": "ipython3",
   "version": "3.11.3"
  }
 },
 "nbformat": 4,
 "nbformat_minor": 5
}
